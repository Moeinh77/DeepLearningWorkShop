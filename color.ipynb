{
 "cells": [
  {
   "cell_type": "markdown",
   "metadata": {},
   "source": [
    "# Image in compute"
   ]
  },
  {
   "cell_type": "code",
   "execution_count": 1,
   "metadata": {},
   "outputs": [],
   "source": [
    "### cat image"
   ]
  },
  {
   "cell_type": "markdown",
   "metadata": {},
   "source": [
    "## Images are stored as matrices of numbers in computer.\n",
    "\n",
    "### 1. Gray images\n",
    "Each image is a 2D matrix, and each element of matrix shows the brightness of a specific pixle in image. 0->Black  255->White.\n",
    "<br>Here you can see a 16*16 pixle gray image.</br>\n",
    "<img src=\"gray_image.png\">\n",
    "\n",
    "\n",
    "### 2. Colered images\n",
    "Each image is made up of three 2D matrices. Every color can be shown as a mixture of <b>Red Green Blue</b>. Soo that's why we have 3D matrices for storing images in computer. You can create colors in bloew and play around with it to get the concept.\n"
   ]
  },
  {
   "cell_type": "code",
   "execution_count": 2,
   "metadata": {},
   "outputs": [
    {
     "data": {
      "application/vnd.jupyter.widget-view+json": {
       "model_id": "2d31295e6e84422399240f0527c91232",
       "version_major": 2,
       "version_minor": 0
      },
      "text/plain": [
       "interactive(children=(IntText(value=0, description='R:'), IntText(value=108, description='G:'), IntText(value=…"
      ]
     },
     "metadata": {},
     "output_type": "display_data"
    }
   ],
   "source": [
    "# PLAY WITH COLORS\n",
    "%matplotlib inline\n",
    "import numpy as np\n",
    "import matplotlib.pyplot as plt\n",
    "import matplotlib.image as mpimg\n",
    "import ipywidgets as widgets\n",
    "from IPython.display import display\n",
    "\n",
    "def update_image(R=0, G=0, B=0):\n",
    "    img_wiget[:,:,0] = R\n",
    "    img_wiget[:,:,1] = G\n",
    "    img_wiget[:,:,2] = B\n",
    "    imgplot = plt.imshow(img_wiget)\n",
    "    plt.show()\n",
    "    print(img_wiget.transpose(2, 0, 1))\n",
    "    \n",
    "img_wiget = np.zeros((10,10,3), dtype=np.uint8)\n",
    "\n",
    "widget_R = widgets.IntText(min=0, max=255, value=0\n",
    "                                      , description='R:')\n",
    "widget_G = widgets.IntText(min=0, max=255, value=108\n",
    "                                      , description='G:')\n",
    "widget_B = widgets.IntText(min=0, max=255, value=230\n",
    "                                      , description='B:')\n",
    "\n",
    "widgets.interactive(update_image, R=widget_R, G=widget_G, B=widget_B)"
   ]
  },
  {
   "cell_type": "code",
   "execution_count": null,
   "metadata": {},
   "outputs": [],
   "source": []
  }
 ],
 "metadata": {
  "kernelspec": {
   "display_name": "Python 3",
   "language": "python",
   "name": "python3"
  },
  "language_info": {
   "codemirror_mode": {
    "name": "ipython",
    "version": 3
   },
   "file_extension": ".py",
   "mimetype": "text/x-python",
   "name": "python",
   "nbconvert_exporter": "python",
   "pygments_lexer": "ipython3",
   "version": "3.6.6"
  }
 },
 "nbformat": 4,
 "nbformat_minor": 2
}
